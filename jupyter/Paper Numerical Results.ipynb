{
 "cells": [
  {
   "cell_type": "markdown",
   "metadata": {},
   "source": [
    "# Paper Numerical Results\n",
    "\n",
    "Step 1: Install DASK etc (follow instructions in Dask.ipynb)\n",
    "\n",
    "Step 2: Launch DASK server:\n",
    " \n",
    "    dask-ec2 up --keyname research --keypair .ssh/research.pem --region-name eu-west-1 --ami ami-d37961b5 --tags research:dp --count 4 --volume-size 30 --type c4.8xlarge\n",
    "\n",
    "Step 3: On the scheduler, run:\n",
    "\n",
    "    pip install git+https://github.com/lionfish0/dask_dp4gp.git\n",
    "    \n",
    "Step 4: On the scheduler, run this notebook. In particular run this cell once: "
   ]
  },
  {
   "cell_type": "code",
   "execution_count": 1,
   "metadata": {},
   "outputs": [],
   "source": [
    "import dask_dp4gp\n",
    "\n",
    "dask_dp4gp.install_libraries_on_workers()"
   ]
  },
  {
   "cell_type": "markdown",
   "metadata": {},
   "source": [
    "Next run the following analysis:"
   ]
  },
  {
   "cell_type": "code",
   "execution_count": null,
   "metadata": {
    "collapsed": true
   },
   "outputs": [],
   "source": [
    "from dp4gp.utils import dp_normalise, dp_unnormalise\n",
    "from dp4gp import datasets\n",
    "from dask.distributed import Client\n",
    "from sklearn.model_selection import KFold\n",
    "import dask_dp4gp\n",
    "\n",
    "client = Client('127.0.0.1:8786')\n",
    "\n",
    "####Set up data and parameter search grid\n",
    "kung = datasets.load_kung()\n",
    "sensitivity = 100.0\n",
    "y,ac_sens,norm_params = dp_normalise(kung[kung[:,3]==0,0:1],sensitivity)\n",
    "X = kung[kung[:,3]==0,1:3]\n",
    "\n",
    "#todo these don't do anything - shift to get used a p_grid items\n",
    "epsilon = 1.0\n",
    "delta = 0.01\n",
    "cv = 3\n",
    "p_grid = {\"lengthscale\":[], 'variance':[]}#, 'noisevariance':[]}\n",
    "for ls in 5.0**np.arange(0,2):\n",
    "    p_grid[\"lengthscale\"].append(ls)\n",
    "for v in 5.0**np.arange(-1,1):\n",
    "    p_grid[\"variance\"].append(v)\n",
    "    \n",
    "####Get the -RMSE for each fold/param-combo\n",
    "scores = dask_dp4gp.getscores(X,y,p_grid,cv)\n",
    "\n",
    "kf = KFold(n_splits=cv)\n",
    "probabilities = []\n",
    "for train_index, test_index in kf.split(X):\n",
    "    X_train = X[train_index]\n",
    "    y_train = y[train_index]\n",
    "    probabilities.append(dask_dp4gp.getprobabilities(X_train,y_train,p_grid,5))\n",
    "    \n",
    "print(np.array(probabilities))\n",
    "print(scores)\n",
    "print(np.sum(probabilities*-scores,1))\n",
    "print(np.mean(-scores,1))"
   ]
  }
 ],
 "metadata": {
  "kernelspec": {
   "display_name": "Python 3",
   "language": "python",
   "name": "python3"
  },
  "language_info": {
   "codemirror_mode": {
    "name": "ipython",
    "version": 3
   },
   "file_extension": ".py",
   "mimetype": "text/x-python",
   "name": "python",
   "nbconvert_exporter": "python",
   "pygments_lexer": "ipython3",
   "version": "3.6.1"
  }
 },
 "nbformat": 4,
 "nbformat_minor": 2
}
